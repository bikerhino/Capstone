{
 "cells": [
  {
   "cell_type": "markdown",
   "metadata": {},
   "source": [
    "### Best Mexican Restaurant Expansion Suggestions From Foursquare Data"
   ]
  },
  {
   "cell_type": "markdown",
   "metadata": {},
   "source": [
    "**1 Introduction/Business Problem**"
   ]
  },
  {
   "cell_type": "markdown",
   "metadata": {},
   "source": [
    "The owners of an upscale Detroit, MI based Mexican restaurant chain are wishing to expand their chain of restaurants into another Michigan metro area by buying a new restaurant. They are looking at restaurants in nine other metro areas ( Detroit, Kalamazoo, Lansing, Grand Rapids, Flint, Ann Arbor, Midland, Jackson, Battle Creek, Saginaw).   \n",
    "\n",
    "As part of their decision making process, they would like to know which cities to consider expanding to and a list of restaurants to consider buying. The owners would like some additional data analysis done to assist in making the right decision. Throughout this process, I have been \n",
    "asked to find additional data insights to help our clients separate the candidate cities. \n",
    "\n",
    "They have provided criteria for the restaurant they would like to purchase.  They have requested that the targets businesses have a Foursquare likes values that are the best in their respective areas and then ranked by their ratings In addition, the restaurant must already be considerd a Tier 2 price level."
   ]
  },
  {
   "cell_type": "markdown",
   "metadata": {},
   "source": [
    "**2 Data Section**"
   ]
  },
  {
   "cell_type": "markdown",
   "metadata": {},
   "source": [
    "As I am working within a narrow time window, I will attempt to locate readily available information.  I will focus on drawing restaurant location and ratings data from the Foursquare API. The developer site for Foursquare is located at: https://developer.foursquare.com/.  That will require establing a\n",
    "developer account, as the API endpoints require appropriate credentials for accessing the data.  The data required is located in their Places API product.  One segment of the data required will be from their regular calls endpoints, the other segment is located by accessing their premium endpoints.\n",
    "\n",
    "All Foursquare data will be saved to disk, so that it can be pulled up into this report more readily.\n",
    "\n",
    "In order to complete the Foursquare data acquisition, location data will need to be added into the mix.  At the onset of the project, I was utilizing US Census Bureau data to gather population and geo data for the respective cities.  That data become unavailable (due to maintenance by the host Census Bureau websitesite (https://www.census.gov/data/datasets/time-series/demo/popest/2010s-total-metro-and-micro-statistical-areas.html) at a crutical point in the process.  I was forced to locate a different source of data, which ended up being a website called Simple Maps https://simplemaps.com/data/us-cities.  That data was downloaded.  \n",
    "\n",
    "The last bit of data is to compare the chain's existing likes and rating factors to see if there would be any insights gained from resultant data."
   ]
  },
  {
   "cell_type": "markdown",
   "metadata": {},
   "source": [
    "**3 Methodology**"
   ]
  },
  {
   "cell_type": "markdown",
   "metadata": {},
   "source": [
    "3.1 Capstone Section 1: Obtaining and Cleaning Data\n",
    "\n",
    "The first section of the project was the process of obtaining and cleaning the data.  The detailed description of the programming for this section can be found at https://github.com/bikerhino/Capstone/blob/main/Capstone_1.ipynb.  It includes importing and identifying the required target metro areas.  Obtaining a list of Foursquare restaurants for the target metro areas and \n",
    "\n",
    "3.2 Capstone Section 2: Obtaining Premium Foursquare Data \n",
    "\n",
    "The second section of the project was taking the Foursquare restaurant list created in Section 1 and matching premium Foursquare data to that list.  The premium data consisted of ratings, pricing tiers and likes values for each restaurant.  The programming for this section can be found at https://github.com/bikerhino/Capstone/blob/main/Capstone_2.ipynb. \n",
    "\n",
    "3.3 Capstone Section 3: Merging Data for Sections 1 and 2\n",
    "\n",
    "Section 3 required merging the two dataframes created in Sections 1.  In particular, the city, restaurant and ratings dataframes are complied in this section.  The programming for this section can be found at https://github.com/bikerhino/Capstone/blob/main/Capstone_3.ipynb\n",
    "\n",
    "3.4 Capstone Section 4: Data Analysis\n",
    "\n",
    "Section 4 Data Analysis begins with loading required libraries."
   ]
  },
  {
   "cell_type": "code",
   "execution_count": 1,
   "metadata": {},
   "outputs": [],
   "source": [
    "# load libraries\n",
    "\n",
    "import pandas as pd                                                      # library for data analsysis\n",
    "import numpy as np                                                       # library to handle data in a vectorized manner  \n",
    "import matplotlib.pyplot as plt                                          # plotting package \n",
    "from sklearn.linear_model import LinearRegression\n",
    "from sklearn import preprocessing"
   ]
  },
  {
   "cell_type": "markdown",
   "metadata": {},
   "source": [
    "Importing the dataframe from Section 3 is the next step.  Analyzing individual feature patterns using visualization was accomplished by plotting the various columns of data.  Likes and likes differentials offer the best form of regression analysis."
   ]
  },
  {
   "cell_type": "code",
   "execution_count": 2,
   "metadata": {},
   "outputs": [
    {
     "data": {
      "image/png": "[encoded data removed]",
      "text/plain": [
       "<Figure size 432x288 with 9 Axes>"
      ]
     },
     "metadata": {
      "needs_background": "light"
     },
     "output_type": "display_data"
    },
    {
     "data": {
      "text/html": [
       "<div>\n",
       "<style scoped>\n",
       "    .dataframe tbody tr th:only-of-type {\n",
       "        vertical-align: middle;\n",
       "    }\n",
       "\n",
       "    .dataframe tbody tr th {\n",
       "        vertical-align: top;\n",
       "    }\n",
       "\n",
       "    .dataframe thead th {\n",
       "        text-align: right;\n",
       "    }\n",
       "</style>\n",
       "<table border=\"1\" class=\"dataframe\">\n",
       "  <thead>\n",
       "    <tr style=\"text-align: right;\">\n",
       "      <th></th>\n",
       "      <th>rating</th>\n",
       "      <th>likes</th>\n",
       "      <th>tier</th>\n",
       "      <th>rest_density</th>\n",
       "      <th>rating_diff</th>\n",
       "      <th>likes_diff</th>\n",
       "      <th>growth_rate</th>\n",
       "    </tr>\n",
       "  </thead>\n",
       "  <tbody>\n",
       "    <tr>\n",
       "      <th>0</th>\n",
       "      <td>7.2</td>\n",
       "      <td>40</td>\n",
       "      <td>1</td>\n",
       "      <td>70122.5</td>\n",
       "      <td>1.3</td>\n",
       "      <td>1.6</td>\n",
       "      <td>0.005</td>\n",
       "    </tr>\n",
       "    <tr>\n",
       "      <th>1</th>\n",
       "      <td>8.1</td>\n",
       "      <td>116</td>\n",
       "      <td>2</td>\n",
       "      <td>70122.5</td>\n",
       "      <td>2.2</td>\n",
       "      <td>77.6</td>\n",
       "      <td>0.005</td>\n",
       "    </tr>\n",
       "    <tr>\n",
       "      <th>2</th>\n",
       "      <td>7.4</td>\n",
       "      <td>34</td>\n",
       "      <td>1</td>\n",
       "      <td>70122.5</td>\n",
       "      <td>1.5</td>\n",
       "      <td>-4.4</td>\n",
       "      <td>0.005</td>\n",
       "    </tr>\n",
       "    <tr>\n",
       "      <th>3</th>\n",
       "      <td>7.2</td>\n",
       "      <td>88</td>\n",
       "      <td>2</td>\n",
       "      <td>70122.5</td>\n",
       "      <td>1.3</td>\n",
       "      <td>49.6</td>\n",
       "      <td>0.005</td>\n",
       "    </tr>\n",
       "    <tr>\n",
       "      <th>4</th>\n",
       "      <td>8.2</td>\n",
       "      <td>59</td>\n",
       "      <td>2</td>\n",
       "      <td>70122.5</td>\n",
       "      <td>2.3</td>\n",
       "      <td>20.6</td>\n",
       "      <td>0.005</td>\n",
       "    </tr>\n",
       "  </tbody>\n",
       "</table>\n",
       "</div>"
      ],
      "text/plain": [
       "   rating  likes  tier  rest_density  rating_diff  likes_diff  growth_rate\n",
       "0     7.2     40     1       70122.5          1.3         1.6        0.005\n",
       "1     8.1    116     2       70122.5          2.2        77.6        0.005\n",
       "2     7.4     34     1       70122.5          1.5        -4.4        0.005\n",
       "3     7.2     88     2       70122.5          1.3        49.6        0.005\n",
       "4     8.2     59     2       70122.5          2.3        20.6        0.005"
      ]
     },
     "execution_count": 2,
     "metadata": {},
     "output_type": "execute_result"
    }
   ],
   "source": [
    "maxMex = pd.read_csv(r'C:\\Users\\Jim_2\\Desktop\\python_projects\\maxMex.csv')              # reads cities2 file data\n",
    "maxMex.describe()\n",
    "mlr = maxMex[['rating','likes','tier','rest_density','rating_diff','likes_diff','growth_rate']]\n",
    "mlr.hist()\n",
    "plt.subplots_adjust(top = 0.99, bottom=0.01, hspace=1.5, wspace=0.4)\n",
    "plt.show()\n",
    "mlr.head()"
   ]
  },
  {
   "cell_type": "markdown",
   "metadata": {},
   "source": [
    "After sampling multiple plot comparisons, the best scatter plot was determined to be using the independent variable of the likes differential and a dependent variable of the Foursquare likes results for each restaurant.  The next step was to create train and test sets. using the aformentioned variables.  "
   ]
  },
  {
   "cell_type": "code",
   "execution_count": 3,
   "metadata": {},
   "outputs": [
    {
     "data": {
      "image/png": "[encoded data removed]",
      "text/plain": [
       "<Figure size 432x288 with 1 Axes>"
      ]
     },
     "metadata": {
      "needs_background": "light"
     },
     "output_type": "display_data"
    }
   ],
   "source": [
    "plt.scatter(mlr.likes_diff, mlr.likes,  color='blue')\n",
    "plt.xlabel(\"Likes Differential\")\n",
    "plt.ylabel(\"Likes\")\n",
    "plt.show()\n",
    "mex = np.random.rand(len(maxMex)) < 0.8\n",
    "train = mlr[mex]\n",
    "test = mlr[~mex]"
   ]
  },
  {
   "cell_type": "markdown",
   "metadata": {},
   "source": [
    "**4 Results**"
   ]
  },
  {
   "cell_type": "markdown",
   "metadata": {},
   "source": [
    "Making predictions based off of a singular regression model was the selected model as that was the most obvious data selection choice.  In\n",
    "accordance with building such a model, I needed to arrange a linear regression model using to selected independent and dependent variables.  Utilizing the training and test sets, I established the single linear coefficients and intercept for the model.  The regression plot is shown below."
   ]
  },
  {
   "cell_type": "code",
   "execution_count": 4,
   "metadata": {},
   "outputs": [
    {
     "name": "stdout",
     "output_type": "stream",
     "text": [
      "Coefficients:  [[0.997309]]\n",
      "Intercept:  [28.3454791]\n"
     ]
    },
    {
     "data": {
      "text/plain": [
       "Text(0, 0.5, 'Likes')"
      ]
     },
     "execution_count": 4,
     "metadata": {},
     "output_type": "execute_result"
    },
    {
     "data": {
      "image/png": "[encoded data removed]",
      "text/plain": [
       "<Figure size 432x288 with 1 Axes>"
      ]
     },
     "metadata": {
      "needs_background": "light"
     },
     "output_type": "display_data"
    }
   ],
   "source": [
    "from sklearn import linear_model\n",
    "regr = linear_model.LinearRegression()\n",
    "train_x = np.asanyarray(train[['likes_diff']])\n",
    "train_y = np.asanyarray(train[['likes']])\n",
    "regr.fit (train_x, train_y)\n",
    "# The coefficients\n",
    "print ('Coefficients: ', regr.coef_)\n",
    "print ('Intercept: ',regr.intercept_)\n",
    "\n",
    "plt.scatter(train.likes_diff, train.likes,  color='blue')\n",
    "plt.plot(train_x, regr.coef_[0][0]*train_x + regr.intercept_[0], '-r')\n",
    "plt.xlabel(\"Likes Differential\")\n",
    "plt.ylabel(\"Likes\")"
   ]
  },
  {
   "cell_type": "code",
   "execution_count": 5,
   "metadata": {},
   "outputs": [
    {
     "data": {
      "text/plain": [
       "Text(0, 0.5, 'Likes')"
      ]
     },
     "execution_count": 5,
     "metadata": {},
     "output_type": "execute_result"
    },
    {
     "data": {
      "image/png": "[encoded data removed]",
      "text/plain": [
       "<Figure size 432x288 with 1 Axes>"
      ]
     },
     "metadata": {
      "needs_background": "light"
     },
     "output_type": "display_data"
    }
   ],
   "source": [
    "plt.scatter(train.likes_diff, train.likes,  color='blue')\n",
    "plt.plot(train_x, regr.coef_[0][0]*train_x + regr.intercept_[0], '-r')\n",
    "plt.xlabel(\"Likes Differential\")\n",
    "plt.ylabel(\"Likes\")"
   ]
  },
  {
   "cell_type": "markdown",
   "metadata": {},
   "source": [
    "Accuracy and evaluation was completed using mean absolute error, residual sum of squares and obtaining a R2 score.  They are displayed below.  The determined results were satisfactory."
   ]
  },
  {
   "cell_type": "code",
   "execution_count": 6,
   "metadata": {},
   "outputs": [
    {
     "name": "stdout",
     "output_type": "stream",
     "text": [
      "\n",
      "Mean absolute error: 9.48\n",
      "Residual sum of squares (MSE): 108.45\n",
      "R2-score: 0.93 \n",
      "\n"
     ]
    }
   ],
   "source": [
    "from sklearn.metrics import r2_score\n",
    "\n",
    "test_x = np.asanyarray(test[['likes_diff']])\n",
    "test_y = np.asanyarray(test[['likes']])\n",
    "test_y_ = regr.predict(test_x)\n",
    "\n",
    "print(\"\\nMean absolute error: %.2f\" % np.mean(np.absolute(test_y_ - test_y)))\n",
    "print(\"Residual sum of squares (MSE): %.2f\" % np.mean((test_y_ - test_y) ** 2))\n",
    "print(\"R2-score: %.2f\" % r2_score(test_y , test_y_),'\\n')"
   ]
  },
  {
   "cell_type": "markdown",
   "metadata": {},
   "source": [
    "To fulfill the restaurant owners' requirements a visual inspection of the plot was used to select the thresholds for providing target restaurants for the client.  An initial slice of 5 targets will be provided based upon the criteria.  The minimum likes differential was placed at a greater than 45 value and the like value was placed at a greater than 70 factor.  In addition, restaurants with a price tier of 1 were filtered from the results, as well.  The leads were then sorted by their respective Foursquare ratings.  The target suggestions are below.  Should the owners require more results, they can be easily provided."
   ]
  },
  {
   "cell_type": "code",
   "execution_count": 7,
   "metadata": {},
   "outputs": [
    {
     "data": {
      "text/html": [
       "<div>\n",
       "<style scoped>\n",
       "    .dataframe tbody tr th:only-of-type {\n",
       "        vertical-align: middle;\n",
       "    }\n",
       "\n",
       "    .dataframe tbody tr th {\n",
       "        vertical-align: top;\n",
       "    }\n",
       "\n",
       "    .dataframe thead th {\n",
       "        text-align: right;\n",
       "    }\n",
       "</style>\n",
       "<table border=\"1\" class=\"dataframe\">\n",
       "  <thead>\n",
       "    <tr style=\"text-align: right;\">\n",
       "      <th></th>\n",
       "      <th>name</th>\n",
       "      <th>city</th>\n",
       "      <th>rating</th>\n",
       "      <th>likes</th>\n",
       "      <th>tier</th>\n",
       "      <th>rest_density</th>\n",
       "      <th>rating_diff</th>\n",
       "      <th>likes_diff</th>\n",
       "      <th>growth_rate</th>\n",
       "    </tr>\n",
       "  </thead>\n",
       "  <tbody>\n",
       "    <tr>\n",
       "      <th>104</th>\n",
       "      <td>Maiz Mexican Cantina</td>\n",
       "      <td>Ann Arbor</td>\n",
       "      <td>8.5</td>\n",
       "      <td>98</td>\n",
       "      <td>2</td>\n",
       "      <td>14648.5</td>\n",
       "      <td>2.9</td>\n",
       "      <td>66.2</td>\n",
       "      <td>0.0650</td>\n",
       "    </tr>\n",
       "    <tr>\n",
       "      <th>11</th>\n",
       "      <td>Mexican Village</td>\n",
       "      <td>Detroit</td>\n",
       "      <td>8.4</td>\n",
       "      <td>92</td>\n",
       "      <td>2</td>\n",
       "      <td>70122.5</td>\n",
       "      <td>2.5</td>\n",
       "      <td>53.6</td>\n",
       "      <td>0.0050</td>\n",
       "    </tr>\n",
       "    <tr>\n",
       "      <th>39</th>\n",
       "      <td>On The Border Mexican Grill &amp; Cantina</td>\n",
       "      <td>Grand Rapids</td>\n",
       "      <td>8.3</td>\n",
       "      <td>109</td>\n",
       "      <td>2</td>\n",
       "      <td>14507.5</td>\n",
       "      <td>2.4</td>\n",
       "      <td>72.9</td>\n",
       "      <td>0.0917</td>\n",
       "    </tr>\n",
       "    <tr>\n",
       "      <th>1</th>\n",
       "      <td>Mexican Village Restaurant</td>\n",
       "      <td>Detroit</td>\n",
       "      <td>8.1</td>\n",
       "      <td>116</td>\n",
       "      <td>2</td>\n",
       "      <td>70122.5</td>\n",
       "      <td>2.2</td>\n",
       "      <td>77.6</td>\n",
       "      <td>0.0050</td>\n",
       "    </tr>\n",
       "    <tr>\n",
       "      <th>36</th>\n",
       "      <td>On The Border Mexican Grill &amp; Cantina</td>\n",
       "      <td>Grand Rapids</td>\n",
       "      <td>8.1</td>\n",
       "      <td>117</td>\n",
       "      <td>2</td>\n",
       "      <td>14507.5</td>\n",
       "      <td>2.2</td>\n",
       "      <td>80.9</td>\n",
       "      <td>0.0917</td>\n",
       "    </tr>\n",
       "  </tbody>\n",
       "</table>\n",
       "</div>"
      ],
      "text/plain": [
       "                                      name          city  rating  likes  tier  \\\n",
       "104                   Maiz Mexican Cantina     Ann Arbor     8.5     98     2   \n",
       "11                         Mexican Village       Detroit     8.4     92     2   \n",
       "39   On The Border Mexican Grill & Cantina  Grand Rapids     8.3    109     2   \n",
       "1               Mexican Village Restaurant       Detroit     8.1    116     2   \n",
       "36   On The Border Mexican Grill & Cantina  Grand Rapids     8.1    117     2   \n",
       "\n",
       "     rest_density  rating_diff  likes_diff  growth_rate  \n",
       "104       14648.5          2.9        66.2       0.0650  \n",
       "11        70122.5          2.5        53.6       0.0050  \n",
       "39        14507.5          2.4        72.9       0.0917  \n",
       "1         70122.5          2.2        77.6       0.0050  \n",
       "36        14507.5          2.2        80.9       0.0917  "
      ]
     },
     "execution_count": 7,
     "metadata": {},
     "output_type": "execute_result"
    }
   ],
   "source": [
    "likes_leads = maxMex[(maxMex['likes_diff'] > 45) & (maxMex['likes'] > 70) & (maxMex['tier'] > 1)]\n",
    "likes_leads2 = likes_leads.sort_values(by='rating', ascending=False)\n",
    "picks = likes_leads2[0:5]\n",
    "picks"
   ]
  },
  {
   "cell_type": "markdown",
   "metadata": {},
   "source": [
    "**5 Discussion**"
   ]
  },
  {
   "cell_type": "markdown",
   "metadata": {},
   "source": [
    "The project was fairly basic in nature due to the limited time that was available to complete the project.  Utilizing the Foursquare data has limits, especially in the capacity that was selected.  There are some obvious limitations to the data. Not every restaurant has rankings and likes values.  Not every metro area is going to utilize Foursquare equally.  In order to manage the differences between metro areas, the rating and likes differentials were established to generate a more balanced comparison between the metro areas.  To obtain the differentials an average was taken for each metro area and the average was subtracted from each restaurant's respective values.  Relying upon Foursquare ratings and likes provides a fairly small number of reviews for each restaurant. In order to effectively use this type of data, one would need to have significantly more revues to gain a much broader and reliable dataset."
   ]
  }
 ],
 "metadata": {
  "kernelspec": {
   "display_name": "Python 3",
   "language": "python",
   "name": "python3"
  },
  "language_info": {
   "codemirror_mode": {
    "name": "ipython",
    "version": 3
   },
   "file_extension": ".py",
   "mimetype": "text/x-python",
   "name": "python",
   "nbconvert_exporter": "python",
   "pygments_lexer": "ipython3",
   "version": "3.8.5"
  }
 },
 "nbformat": 4,
 "nbformat_minor": 4
}
