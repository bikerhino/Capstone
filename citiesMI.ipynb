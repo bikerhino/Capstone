{
 "cells": [
  {
   "cell_type": "markdown",
   "metadata": {},
   "source": [
    "#### Fetch Michigan cities from dowload file ####"
   ]
  },
  {
   "cell_type": "markdown",
   "metadata": {},
   "source": [
    "The original data file was obtained from www.simplemaps.com.  This notebook does the simple basics of reading the download file, finding the required Michigan city data and saving that data to the local disk.  That data will be available for the main program. "
   ]
  },
  {
   "cell_type": "markdown",
   "metadata": {},
   "source": [
    "*Load libraries*"
   ]
  },
  {
   "cell_type": "code",
   "execution_count": 6,
   "metadata": {},
   "outputs": [],
   "source": [
    "import numpy as np                                                       # library to handle data in a vectorized manner\n",
    "from numpy.random import randint \n",
    "import random                                                            # library for random number generation\n",
    "import requests                                                          # library to handle requests\n",
    "import pandas as pd                                                      # library for data analsysis\n",
    "import json                                                              # library to handle JSON files\n",
    "from pandas.io.json import json_normalize                                # tranform JSON file into a pandas dataframe"
   ]
  },
  {
   "cell_type": "markdown",
   "metadata": {},
   "source": [
    "*Fetch the cities sele *"
   ]
  },
  {
   "cell_type": "code",
   "execution_count": 5,
   "metadata": {},
   "outputs": [
    {
     "name": "stdout",
     "output_type": "stream",
     "text": [
      "\n",
      "We will be searching the following Michigan cities for Mexican restaurant data!\n",
      "\n"
     ]
    },
    {
     "data": {
      "text/html": [
       "<div>\n",
       "<style scoped>\n",
       "    .dataframe tbody tr th:only-of-type {\n",
       "        vertical-align: middle;\n",
       "    }\n",
       "\n",
       "    .dataframe tbody tr th {\n",
       "        vertical-align: top;\n",
       "    }\n",
       "\n",
       "    .dataframe thead th {\n",
       "        text-align: right;\n",
       "    }\n",
       "</style>\n",
       "<table border=\"1\" class=\"dataframe\">\n",
       "  <thead>\n",
       "    <tr style=\"text-align: right;\">\n",
       "      <th></th>\n",
       "      <th>city</th>\n",
       "      <th>lat</th>\n",
       "      <th>lng</th>\n",
       "      <th>population</th>\n",
       "      <th>growth_rate</th>\n",
       "    </tr>\n",
       "  </thead>\n",
       "  <tbody>\n",
       "    <tr>\n",
       "      <th>1</th>\n",
       "      <td>Detroit</td>\n",
       "      <td>42.3834</td>\n",
       "      <td>-83.1024</td>\n",
       "      <td>3506126.0</td>\n",
       "      <td>-0.0060</td>\n",
       "    </tr>\n",
       "    <tr>\n",
       "      <th>2</th>\n",
       "      <td>Grand Rapids</td>\n",
       "      <td>42.9620</td>\n",
       "      <td>-85.6562</td>\n",
       "      <td>609314.0</td>\n",
       "      <td>0.0301</td>\n",
       "    </tr>\n",
       "    <tr>\n",
       "      <th>3</th>\n",
       "      <td>Lansing</td>\n",
       "      <td>42.7142</td>\n",
       "      <td>-84.5601</td>\n",
       "      <td>324286.0</td>\n",
       "      <td>0.0380</td>\n",
       "    </tr>\n",
       "    <tr>\n",
       "      <th>4</th>\n",
       "      <td>Kalamazoo</td>\n",
       "      <td>42.2749</td>\n",
       "      <td>-85.5882</td>\n",
       "      <td>215193.0</td>\n",
       "      <td>0.0917</td>\n",
       "    </tr>\n",
       "  </tbody>\n",
       "</table>\n",
       "</div>"
      ],
      "text/plain": [
       "           city      lat      lng  population  growth_rate\n",
       "1       Detroit  42.3834 -83.1024   3506126.0      -0.0060\n",
       "2  Grand Rapids  42.9620 -85.6562    609314.0       0.0301\n",
       "3       Lansing  42.7142 -84.5601    324286.0       0.0380\n",
       "4     Kalamazoo  42.2749 -85.5882    215193.0       0.0917"
      ]
     },
     "execution_count": 5,
     "metadata": {},
     "output_type": "execute_result"
    }
   ],
   "source": [
    "cities = pd.read_csv(r'C:\\Users\\Jim_2\\Desktop\\python_projects\\us.csv')    # location of https://simplemaps.com/data/us-cities downloads = cities.reset_index(drop=True)                                    # add index back onto data\n",
    "cities = cities.loc[(cities['city'].isin(['Detroit','Kalamazoo',\\\n",
    "    'Lansing','Grand Rapids'])) & (cities['state_id'] ==\"MI\")]            # locate data for Michigan cities\n",
    "\n",
    "cities2 = cities[['city','lat','lng','population']].copy()                # select required columns from dataframe\n",
    "\n",
    "growth_lst = [-.006,.0301,.038,.0917]                                     # googled growth rate value since last census\n",
    "\n",
    "cities2['growth_rate'] = growth_lst                                       # add growth rate to dataframe                        \n",
    "cities2.index = np.arange(1, len(cities2)+ 1 )                            # resets index to 1\n",
    "\n",
    "print(\"\\nWe will be searching the following Michigan cities for \\\n",
    "Mexican restaurant data!\\n\")\n",
    "\n",
    "cities2.to_csv(r'C:\\Users\\Jim_2\\Desktop\\python_projects\\cities2.csv', index=False, header=True) # saving capMex file to disk\n",
    "cities2"
   ]
  },
  {
   "cell_type": "code",
   "execution_count": null,
   "metadata": {},
   "outputs": [],
   "source": []
  }
 ],
 "metadata": {
  "kernelspec": {
   "display_name": "Python 3",
   "language": "python",
   "name": "python3"
  },
  "language_info": {
   "codemirror_mode": {
    "name": "ipython",
    "version": 3
   },
   "file_extension": ".py",
   "mimetype": "text/x-python",
   "name": "python",
   "nbconvert_exporter": "python",
   "pygments_lexer": "ipython3",
   "version": "3.8.3"
  }
 },
 "nbformat": 4,
 "nbformat_minor": 4
}
