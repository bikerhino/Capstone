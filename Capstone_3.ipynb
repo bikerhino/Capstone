{
 "cells": [
  {
   "cell_type": "markdown",
   "metadata": {},
   "source": [
    "**Capstone Code: Section 3, Merge Data**"
   ]
  },
  {
   "cell_type": "code",
   "execution_count": 1,
   "metadata": {},
   "outputs": [
    {
     "name": "stdout",
     "output_type": "stream",
     "text": [
      "Libraries imported.\n",
      "\n"
     ]
    }
   ],
   "source": [
    "# load libraries and other required methods\n",
    "\n",
    "import numpy as np                                                       # library to handle data in a vectorized manner\n",
    "from numpy.random import randint \n",
    "import random                                                            # library for random number generation\n",
    "import requests                                                          # library to handle requests\n",
    "\n",
    "import pandas as pd                                                      # library for data analsysis\n",
    "\n",
    "import json                                                              # library to handle JSON files\n",
    "from pandas.io.json import json_normalize                                # tranform JSON file into a pandas dataframe\n",
    "\n",
    "from geopy.geocoders import Nominatim                                    # convert an address into latitude and longitude values\n",
    "geolocator = Nominatim(user_agent=\"foursquare_agent\")\n",
    "\n",
    "import matplotlib.cm as cm                                               # Matplotlib and associated plotting modules\n",
    "import matplotlib.colors as colors                                       # Matplotlib and associated plotting modules\n",
    "import matplotlib.pyplot as plt\n",
    "\n",
    "from sklearn.cluster import KMeans                                       # import k-means from clustering stage\n",
    "from sklearn.linear_model import LinearRegression\n",
    "\n",
    "from IPython.display import Image                                        # libraries for displaying images\n",
    "from IPython.core.display import HTML                                    # libraries for displaying images\n",
    "import folium                                                            # map rendering library\n",
    "\n",
    "from IPython.core.interactiveshell import InteractiveShell\n",
    "InteractiveShell.ast_node_interactivity = \"all\"                          # display requested dataframes in pandas format\n",
    "\n",
    "print('Libraries imported.\\n')"
   ]
  },
  {
   "cell_type": "markdown",
   "metadata": {},
   "source": [
    "**Read Michigan city and restaurant data, left join into dataframe, sort by cities, save files to disk**"
   ]
  },
  {
   "cell_type": "markdown",
   "metadata": {},
   "source": [
    "*The following city and restaurant source data was obtained from a notebook located at https://github.com/bikerhino/Capstone/blob/main/cities.ipynb."
   ]
  },
  {
   "cell_type": "code",
   "execution_count": 2,
   "metadata": {},
   "outputs": [
    {
     "name": "stdout",
     "output_type": "stream",
     "text": [
      "\n",
      "The average rating for all found restaurants is:  5.4\n",
      "The average likes for all found restaurants is:  28.5 \n",
      "\n"
     ]
    },
    {
     "data": {
      "text/html": [
       "<div>\n",
       "<style scoped>\n",
       "    .dataframe tbody tr th:only-of-type {\n",
       "        vertical-align: middle;\n",
       "    }\n",
       "\n",
       "    .dataframe tbody tr th {\n",
       "        vertical-align: top;\n",
       "    }\n",
       "\n",
       "    .dataframe thead th {\n",
       "        text-align: right;\n",
       "    }\n",
       "</style>\n",
       "<table border=\"1\" class=\"dataframe\">\n",
       "  <thead>\n",
       "    <tr style=\"text-align: right;\">\n",
       "      <th></th>\n",
       "      <th>name</th>\n",
       "      <th>city</th>\n",
       "      <th>rating</th>\n",
       "      <th>likes</th>\n",
       "      <th>tier</th>\n",
       "      <th>rest_density</th>\n",
       "      <th>rating_diff</th>\n",
       "      <th>likes_diff</th>\n",
       "      <th>growth_rate</th>\n",
       "    </tr>\n",
       "  </thead>\n",
       "  <tbody>\n",
       "    <tr>\n",
       "      <th>0</th>\n",
       "      <td>Mexican Town Restaurant</td>\n",
       "      <td>Detroit</td>\n",
       "      <td>7.2</td>\n",
       "      <td>40</td>\n",
       "      <td>1</td>\n",
       "      <td>70122.5</td>\n",
       "      <td>1.3</td>\n",
       "      <td>1.6</td>\n",
       "      <td>0.005</td>\n",
       "    </tr>\n",
       "    <tr>\n",
       "      <th>1</th>\n",
       "      <td>Mexican Village Restaurant</td>\n",
       "      <td>Detroit</td>\n",
       "      <td>8.1</td>\n",
       "      <td>116</td>\n",
       "      <td>2</td>\n",
       "      <td>70122.5</td>\n",
       "      <td>2.2</td>\n",
       "      <td>77.6</td>\n",
       "      <td>0.005</td>\n",
       "    </tr>\n",
       "    <tr>\n",
       "      <th>2</th>\n",
       "      <td>Qdoba Mexican Grill</td>\n",
       "      <td>Detroit</td>\n",
       "      <td>7.4</td>\n",
       "      <td>34</td>\n",
       "      <td>1</td>\n",
       "      <td>70122.5</td>\n",
       "      <td>1.5</td>\n",
       "      <td>-4.4</td>\n",
       "      <td>0.005</td>\n",
       "    </tr>\n",
       "    <tr>\n",
       "      <th>3</th>\n",
       "      <td>On The Border Mexican Grill &amp; Cantina</td>\n",
       "      <td>Detroit</td>\n",
       "      <td>7.2</td>\n",
       "      <td>88</td>\n",
       "      <td>2</td>\n",
       "      <td>70122.5</td>\n",
       "      <td>1.3</td>\n",
       "      <td>49.6</td>\n",
       "      <td>0.005</td>\n",
       "    </tr>\n",
       "    <tr>\n",
       "      <th>4</th>\n",
       "      <td>Mexican Gardens</td>\n",
       "      <td>Detroit</td>\n",
       "      <td>8.2</td>\n",
       "      <td>59</td>\n",
       "      <td>2</td>\n",
       "      <td>70122.5</td>\n",
       "      <td>2.3</td>\n",
       "      <td>20.6</td>\n",
       "      <td>0.005</td>\n",
       "    </tr>\n",
       "  </tbody>\n",
       "</table>\n",
       "</div>"
      ],
      "text/plain": [
       "                                    name     city  rating  likes  tier  \\\n",
       "0                Mexican Town Restaurant  Detroit     7.2     40     1   \n",
       "1             Mexican Village Restaurant  Detroit     8.1    116     2   \n",
       "2                    Qdoba Mexican Grill  Detroit     7.4     34     1   \n",
       "3  On The Border Mexican Grill & Cantina  Detroit     7.2     88     2   \n",
       "4                        Mexican Gardens  Detroit     8.2     59     2   \n",
       "\n",
       "   rest_density  rating_diff  likes_diff  growth_rate  \n",
       "0       70122.5          1.3         1.6        0.005  \n",
       "1       70122.5          2.2        77.6        0.005  \n",
       "2       70122.5          1.5        -4.4        0.005  \n",
       "3       70122.5          1.3        49.6        0.005  \n",
       "4       70122.5          2.3        20.6        0.005  "
      ]
     },
     "execution_count": 2,
     "metadata": {},
     "output_type": "execute_result"
    }
   ],
   "source": [
    "cities2 = pd.read_csv(r'C:\\Users\\Jim_2\\Desktop\\python_projects\\cities2.csv')              # reads cities2 file data\n",
    "cities2.index = np.arange(1, len(cities2)+ 1 )                                            # resets cities2 index to 1\n",
    "capMex = pd.read_csv(r'C:\\Users\\Jim_2\\Desktop\\python_projects\\capMex.csv')                # read restaurant csv into a dataframe\n",
    "mexReviews = pd.read_csv(r'C:\\Users\\Jim_2\\Desktop\\python_projects\\mexReviews.csv')        # read restaurant review csv into a dataframe\n",
    "\n",
    "capMex2 = capMex.merge(mexReviews, on=['id','name'], how='left')                          # merge mex restaurants and review data\n",
    "r_mean = mexReviews['rating'].mean(axis=0)\n",
    "l_mean = mexReviews['likes'].mean(axis=0)\n",
    "r_mean, l_mean = round(r_mean, 1), round(l_mean, 1)\n",
    "print ('\\nThe average rating for all found restaurants is: ',r_mean)\n",
    "print ('The average likes for all found restaurants is: ',l_mean,'\\n')\n",
    "\n",
    "for c, row in cities2.iterrows():                                          # loop through cities2 to save city retaurant dataframe\n",
    "    city = row['city']                                                     # declare city variable\n",
    "    \n",
    "    cityMex = capMex2.loc[capMex2['city'] == city ]                        # assign dataframe by city\n",
    "    cityChar3 = city[:3]                                                   # assign variable to first 3 city characters\n",
    "    onlyCity2 = '_only%s'%cityChar3                                        # combine string with prior variable as a new variable\n",
    "    cityurl2 = 'C:\\\\Users\\Jim_2\\Desktop\\python_projects\\cities\\{}.csv'.format(onlyCity2)   # create url for each city\n",
    "    cityMex.to_csv(cityurl2, index=False, header=True)                     # saving file to disk\n",
    "    \n",
    "    cities2.loc[c,'avg_rating'] = round(cityMex['rating'].mean(axis=0),1)\n",
    "    cities2.loc[c,'avg_rating_no0'] = round(cityMex.loc[cityMex['rating'] !=0,'rating'].mean(axis=0),1)\n",
    "    cities2.loc[c,'avg_likes'] = round(cityMex['likes'].mean(axis=0),1)\n",
    "    cities2.loc[c,'avg_likes_no0'] = round(cityMex.loc[cityMex['likes'] !=0,'likes'].mean(axis=0),1)\n",
    "\n",
    "cities2['rest_density'] = round(cities2.apply(lambda x: x['population']/x['count'], axis=1),1)\n",
    "\n",
    "capMex2 = capMex2.fillna(0)\n",
    "capMex2.to_csv(r'C:\\Users\\Jim_2\\Desktop\\python_projects\\capMex2.csv', index=False, header=True) # saving file to disk\n",
    "cities2 = cities2.rename(columns = {\"lat\":\"city_lat\",\"lng\":\"city_lng\"}) \n",
    "cities2.to_csv(r'C:\\Users\\Jim_2\\Desktop\\python_projects\\cities2.csv', index=False, header=True) # saving updated cities2 to disk\n",
    "\n",
    "maxMex = capMex2.merge(cities2, on=['city'], how='left')                          # merge mex restaurants and review data\n",
    "\n",
    "maxMex['rating_diff'] = round(maxMex['rating']- maxMex['avg_rating'], 1)\n",
    "maxMex['likes_diff'] = round(maxMex['likes']- maxMex['avg_likes'], 1)\n",
    "\n",
    "maxMex = maxMex[['name','city','rating','likes','tier','rest_density','rating_diff','likes_diff','growth_rate']].copy()\n",
    "maxMex.head()\n",
    "maxMex.to_csv(r'C:\\Users\\Jim_2\\Desktop\\python_projects\\maxMex.csv', index=False, header=True) # saving updated maxMex to disk"
   ]
  },
  {
   "cell_type": "code",
   "execution_count": null,
   "metadata": {},
   "outputs": [],
   "source": []
  }
 ],
 "metadata": {
  "kernelspec": {
   "display_name": "Python 3",
   "language": "python",
   "name": "python3"
  },
  "language_info": {
   "codemirror_mode": {
    "name": "ipython",
    "version": 3
   },
   "file_extension": ".py",
   "mimetype": "text/x-python",
   "name": "python",
   "nbconvert_exporter": "python",
   "pygments_lexer": "ipython3",
   "version": "3.8.5"
  }
 },
 "nbformat": 4,
 "nbformat_minor": 4
}
