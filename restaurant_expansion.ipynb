{
 "cells": [
  {
   "cell_type": "markdown",
   "metadata": {},
   "source": [
    "**Best Location for a New Mexican Restaurant**"
   ]
  },
  {
   "cell_type": "markdown",
   "metadata": {},
   "source": [
    "*Introduction/Business Problem*"
   ]
  },
  {
   "cell_type": "markdown",
   "metadata": {},
   "source": [
    "The owners of a Detroit, MI based Mexican restaurant chain are wishing to expand \n",
    "their chain of restaurants into another Michigan metro area.  They have identified \n",
    "potential sites in expansion sites in 3 metro areas that they would consider... \n",
    "Kalamazoo, Grand Rapids and Lansing.   As part of their decision making process, they \n",
    "would like to us to recommend the best marketplace to expand their operations.  Our \n",
    "recommendation is to be determined by creating a score that is built by Mexican \n",
    "restaurant density (40%), population growth (40%) and the average Foursquare ratings \n",
    "of the existing Mexican restaurants in each area(20%).\n"
   ]
  },
  {
   "cell_type": "markdown",
   "metadata": {},
   "source": [
    "*Data Section*"
   ]
  },
  {
   "cell_type": "markdown",
   "metadata": {},
   "source": [
    "Our recommendation will rely upon using the Foursquare location data to identify the volume of Mexican restaurants in each mertropolitan statistical area, the respondant ratings for each restaurant.  THe following link provides an example of Foursquare data for Grand Rapids, MI.  \n",
    "https://foursquare.com/explore?mode=url&near=Grand%20Rapids%2C%20MI%2C%20United%20States&nearGeoId=72057594042922294&q=Mexican\n",
    "\n",
    "We will combine that data with US Census Bureau estimates for 2019.  That data is available at:                       \n",
    "https://www.census.gov/data/datasets/time-series/demo/popest/2010s-total-metro-and-micro-statistical-areas.html.                               \n",
    "The Census Bureau data will be essential for calculating restaurant data and population growth."
   ]
  }
 ],
 "metadata": {
  "kernelspec": {
   "display_name": "Python 3",
   "language": "python",
   "name": "python3"
  },
  "language_info": {
   "codemirror_mode": {
    "name": "ipython",
    "version": 3
   },
   "file_extension": ".py",
   "mimetype": "text/x-python",
   "name": "python",
   "nbconvert_exporter": "python",
   "pygments_lexer": "ipython3",
   "version": "3.8.3"
  }
 },
 "nbformat": 4,
 "nbformat_minor": 4
}
