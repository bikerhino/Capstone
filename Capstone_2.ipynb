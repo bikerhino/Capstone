{
 "cells": [
  {
   "cell_type": "markdown",
   "metadata": {},
   "source": [
    "**Capstone Code: Section 2, Fetch Restaurant Ratings from Foursquare**"
   ]
  },
  {
   "cell_type": "markdown",
   "metadata": {},
   "source": [
    "*Import libraries, set-up notebook*"
   ]
  },
  {
   "cell_type": "code",
   "execution_count": 1,
   "metadata": {},
   "outputs": [
    {
     "name": "stdout",
     "output_type": "stream",
     "text": [
      "Libraries imported.\n",
      "\n"
     ]
    }
   ],
   "source": [
    "import numpy as np                                                       # library to handle data in a vectorized manner\n",
    "from numpy.random import randint \n",
    "\n",
    "import pandas as pd                                                      # library for data analsysis\n",
    "pd.set_option('display.max_columns', None)\n",
    "pd.set_option('display.max_rows', None)\n",
    "\n",
    "import json                                                              # library to handle JSON files\n",
    "from pandas.io.json import json_normalize                                # tranform JSON file into a pandas dataframe\n",
    "import requests                                                          # library to handle requests\n",
    "\n",
    "from geopy.geocoders import Nominatim                                    # convert an address into latitude and longitude values\n",
    "geolocator = Nominatim(user_agent=\"foursquare_agent\")\n",
    "\n",
    "import random                                                            # library for random number generation\n",
    "\n",
    "from IPython.core.interactiveshell import InteractiveShell\n",
    "InteractiveShell.ast_node_interactivity = \"all\"                          # display requested dataframes in pandas format\n",
    "\n",
    "print('Libraries imported.\\n')"
   ]
  },
  {
   "cell_type": "markdown",
   "metadata": {},
   "source": [
    "*Foursquare credentials*"
   ]
  },
  {
   "cell_type": "code",
   "execution_count": 2,
   "metadata": {},
   "outputs": [
    {
     "name": "stdout",
     "output_type": "stream",
     "text": [
      "Your credentials are saved.\n",
      "\n"
     ]
    }
   ],
   "source": [
    "CLIENT_ID = 'MJ1EJQRTUUE3ZGU4NE2DV2P2HZWO0U5E3QU1EFLOT51GQQC3'           # your Foursquare ID\n",
    "CLIENT_SECRET = 'UFY2KX53GD0PRWMZQ0T4BU2ANOHX24RZM2HGXNHAWODLRGL1'       # your Foursquare Secret\n",
    "print('Your credentials are saved.\\n')"
   ]
  },
  {
   "cell_type": "markdown",
   "metadata": {},
   "source": [
    "*Prep variable assignment and cleanup for Foursquare endpoint*"
   ]
  },
  {
   "cell_type": "code",
   "execution_count": 3,
   "metadata": {},
   "outputs": [
    {
     "name": "stdout",
     "output_type": "stream",
     "text": [
      "Your fixed variables are saved.\n",
      "\n"
     ]
    }
   ],
   "source": [
    "VERSION = '20201015'\n",
    "\n",
    "ri = 'response.venue.id'\n",
    "rn = 'response.venue.name'\n",
    "rlat = 'response.venue.location.lat'\n",
    "rlng = 'response.venue.location.lng'\n",
    "rr = \"response.venue.rating\"\n",
    "rt = 'response.venue.price.tier'\n",
    "rl = 'response.venue.likes.count'\n",
    "mr = 'mexRate'\n",
    "rim = 'in_market'\n",
    "\n",
    "# prep for next loop and fetch_ratings function \n",
    "mexReviews = pd.DataFrame(columns=['id','name','city','rating','tier','likes'])\n",
    "entries = []\n",
    "\n",
    "capMex = pd.read_csv(r'C:\\Users\\Jim_2\\Desktop\\python_projects\\capMex.csv')\n",
    "\n",
    "print('Your fixed variables are saved.\\n')"
   ]
  },
  {
   "cell_type": "code",
   "execution_count": 4,
   "metadata": {},
   "outputs": [
    {
     "data": {
      "text/html": [
       "<div>\n",
       "<style scoped>\n",
       "    .dataframe tbody tr th:only-of-type {\n",
       "        vertical-align: middle;\n",
       "    }\n",
       "\n",
       "    .dataframe tbody tr th {\n",
       "        vertical-align: top;\n",
       "    }\n",
       "\n",
       "    .dataframe thead th {\n",
       "        text-align: right;\n",
       "    }\n",
       "</style>\n",
       "<table border=\"1\" class=\"dataframe\">\n",
       "  <thead>\n",
       "    <tr style=\"text-align: right;\">\n",
       "      <th></th>\n",
       "      <th>id</th>\n",
       "      <th>name</th>\n",
       "      <th>lat</th>\n",
       "      <th>lng</th>\n",
       "      <th>rating</th>\n",
       "      <th>tier</th>\n",
       "      <th>likes</th>\n",
       "    </tr>\n",
       "  </thead>\n",
       "  <tbody>\n",
       "    <tr>\n",
       "      <th>0</th>\n",
       "      <td>4a46bd39f964a5205fa91fe3</td>\n",
       "      <td>Mexican Town Restaurant</td>\n",
       "      <td>42.322909</td>\n",
       "      <td>-83.085766</td>\n",
       "      <td>7.2</td>\n",
       "      <td>1</td>\n",
       "      <td>40</td>\n",
       "    </tr>\n",
       "    <tr>\n",
       "      <th>0</th>\n",
       "      <td>4ad36269f964a52012e420e3</td>\n",
       "      <td>Mexican Village Restaurant</td>\n",
       "      <td>42.325439</td>\n",
       "      <td>-83.078011</td>\n",
       "      <td>8.1</td>\n",
       "      <td>2</td>\n",
       "      <td>116</td>\n",
       "    </tr>\n",
       "    <tr>\n",
       "      <th>0</th>\n",
       "      <td>4b50da97f964a520663527e3</td>\n",
       "      <td>Qdoba Mexican Grill</td>\n",
       "      <td>42.507049</td>\n",
       "      <td>-83.048846</td>\n",
       "      <td>7.4</td>\n",
       "      <td>1</td>\n",
       "      <td>34</td>\n",
       "    </tr>\n",
       "    <tr>\n",
       "      <th>0</th>\n",
       "      <td>4b104dcaf964a520656d23e3</td>\n",
       "      <td>On The Border Mexican Grill &amp; Cantina</td>\n",
       "      <td>42.281388</td>\n",
       "      <td>-83.206772</td>\n",
       "      <td>7.2</td>\n",
       "      <td>2</td>\n",
       "      <td>88</td>\n",
       "    </tr>\n",
       "    <tr>\n",
       "      <th>0</th>\n",
       "      <td>4b49321df964a520ad6926e3</td>\n",
       "      <td>Mexican Gardens</td>\n",
       "      <td>42.199302</td>\n",
       "      <td>-83.217076</td>\n",
       "      <td>8.2</td>\n",
       "      <td>2</td>\n",
       "      <td>59</td>\n",
       "    </tr>\n",
       "  </tbody>\n",
       "</table>\n",
       "</div>"
      ],
      "text/plain": [
       "                         id                                   name        lat  \\\n",
       "0  4a46bd39f964a5205fa91fe3                Mexican Town Restaurant  42.322909   \n",
       "0  4ad36269f964a52012e420e3             Mexican Village Restaurant  42.325439   \n",
       "0  4b50da97f964a520663527e3                    Qdoba Mexican Grill  42.507049   \n",
       "0  4b104dcaf964a520656d23e3  On The Border Mexican Grill & Cantina  42.281388   \n",
       "0  4b49321df964a520ad6926e3                        Mexican Gardens  42.199302   \n",
       "\n",
       "         lng  rating  tier  likes  \n",
       "0 -83.085766     7.2     1     40  \n",
       "0 -83.078011     8.1     2    116  \n",
       "0 -83.048846     7.4     1     34  \n",
       "0 -83.206772     7.2     2     88  \n",
       "0 -83.217076     8.2     2     59  "
      ]
     },
     "execution_count": 4,
     "metadata": {},
     "output_type": "execute_result"
    },
    {
     "data": {
      "text/plain": [
       "(152, 7)"
      ]
     },
     "execution_count": 4,
     "metadata": {},
     "output_type": "execute_result"
    }
   ],
   "source": [
    "#Loop through each row to get ratings, price tier and likes\n",
    "for id, row in capMex.iterrows():\n",
    "    venueID = row['id']\n",
    "        \n",
    "    # it returns a dataframe that provides the venue id, the rating factor, price tier and likes count\n",
    "    url2 = 'https://api.foursquare.com/v2/venues/{}?client_id={}&client_secret={}&v={}'.format(venueID, CLIENT_ID, CLIENT_SECRET, VERSION)\n",
    "    \n",
    "    global entry, entries, results2, mexRate, mexRate2                    # set global variables within function\n",
    "    \n",
    "    results2 = requests.get(url2).json()                                  # make the GET request\n",
    "    mr = mexRate = pd.json_normalize(results2)                            # converts to dataframe\n",
    "    \n",
    "    # if statements to verify all fields being imported\n",
    "    if ri not in mr: mr.insert(3,ri,'No ID')\n",
    "    if rn not in mr: mr.insert(4,rn,'No name')\n",
    "    if rlat not in mr: mr.insert(5,rlat,'No lat')\n",
    "    if rlng not in mr: mr.insert(6,rlng,\"No lng\")\n",
    "    if rt not in mr: mr.insert(7,rt,0)\n",
    "    if rr not in mr: mr.insert(8,rr,0)\n",
    "    if rl not in mr: mr.insert(9,rl,0)\n",
    "        \n",
    "    # select subset of mexRate and assign to a new dataframe: mexRate2 \n",
    "    mexRate2 = mexRate[[ri,rn,rlat,rlng,rr,rt,rl]].copy()             # creates new dataframe with required info\n",
    "    mexRate2.columns = ['id','name','lat','lng','rating','tier','likes']      # rename columns\n",
    "    \n",
    "    entry = mexRate2.loc[0]                                              # save current venueID data to variable    \n",
    "    entries.append(entry)                                                # append current venue to venues list \n",
    "mexTrans= pd.concat(entries)\n",
    "mexReviews = pd.DataFrame (entries,columns=['id','name','lat','lng','rating','tier','likes'])\n",
    "mexReviews.to_csv(r'C:\\Users\\Jim_2\\Desktop\\python_projects\\mexReviews.csv', index=False, header=True) # saving file to disk\n",
    "mexReviews.head()\n",
    "mexReviews.shape"
   ]
  },
  {
   "cell_type": "code",
   "execution_count": null,
   "metadata": {},
   "outputs": [],
   "source": []
  }
 ],
 "metadata": {
  "kernelspec": {
   "display_name": "Python 3",
   "language": "python",
   "name": "python3"
  },
  "language_info": {
   "codemirror_mode": {
    "name": "ipython",
    "version": 3
   },
   "file_extension": ".py",
   "mimetype": "text/x-python",
   "name": "python",
   "nbconvert_exporter": "python",
   "pygments_lexer": "ipython3",
   "version": "3.8.5"
  }
 },
 "nbformat": 4,
 "nbformat_minor": 4
}
